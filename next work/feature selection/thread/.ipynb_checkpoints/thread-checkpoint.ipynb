{
 "cells": [
  {
   "cell_type": "code",
   "execution_count": null,
   "metadata": {},
   "outputs": [],
   "source": [
    "import threading\n",
    "from queue import Queue\n",
    "q=Queue()\n",
    "NO_OF_THR=7\n",
    "JOB_NUM=[1,2,3,4,5,6,7]"
   ]
  },
  {
   "cell_type": "code",
   "execution_count": null,
   "metadata": {},
   "outputs": [],
   "source": [
    "def prelims():\n",
    "    global X_train_std\n",
    "    global y_train\n",
    "    import matplotlib.pyplot as plt\n",
    "    import numpy as np\n",
    "    import pandas as pd\n",
    "    np.random.seed(seed=2017)\n",
    "    #reading data set\n",
    "    dataset=pd.read_csv('loan-prediction.csv')\n",
    "    #non numarical to numarical conversion\n",
    "    d=dataset\n",
    "    d.Property_Area.replace(['Urban','Semiurban','Rural'],[2,1,0],inplace=True)\n",
    "    d.Married.replace(['Yes','No'],[1,0],inplace=True)\n",
    "    d.Gender.replace(['Male','Female'],[1,0],inplace=True)\n",
    "    d.Education.replace(['Graduate','Not Graduate'],[1,0],inplace=True)\n",
    "    d.Self_Employed.replace(['Yes','No'],[1,0],inplace=True)\n",
    "    d.Dependents.replace(['0','1','2','3+'],[0,1,2,3],inplace=True)\n",
    "    d.Loan_Status.replace(['Y','N'],[1,0],inplace=True)\n",
    "    dataset=d\n",
    "    dataset['LoanAmount'].fillna(np.mean(dataset.LoanAmount),inplace=True)\n",
    "    dataset['Loan_Amount_Term'].fillna(np.median(dataset.Loan_Amount_Term),inplace=True)\n",
    "    dataset['Credit_History'].fillna(np.median(dataset.Credit_History),inplace=True)\n",
    "    dataset['Dependents'].fillna(np.median(dataset.Dependents),inplace=True)\n",
    "    dataset.dropna(how='any',inplace=True)\n",
    "    X = dataset.iloc[:,1:-1]\n",
    "    y = dataset.iloc[:,-1]\n",
    "    #feature selection\n",
    "    #https://scikit-learn.org/stable/modules/feature_selection.html\n",
    "    #https://scikit-learn.org/stable/modules/generated/sklearn.tree.DecisionTreeClassifier.html\n",
    "    from sklearn.feature_selection import RFE\n",
    "    from sklearn.tree import DecisionTreeClassifier\n",
    "    dt = DecisionTreeClassifier(criterion='entropy',random_state=5)\n",
    "    rfe = RFE(dt, 8)\n",
    "    rfe = rfe.fit(X,y)\n",
    "    X_new=rfe.fit_transform(X,y)\n",
    "    import pandas as pd\n",
    "    X_df=pd.DataFrame(X_new)\n",
    "    X_df.head()\n",
    "    X_df.to_csv('featured_X_dataframe.csv',index=False)\n",
    "    X_df=pd.read_csv('featured_X_dataframe.csv')\n",
    "    X=X_df\n",
    "    from sklearn.preprocessing import StandardScaler\n",
    "    sc = StandardScaler()\n",
    "    sc.fit(X)\n",
    "    X_std=sc.transform(X)\n",
    "    from sklearn.model_selection import train_test_split\n",
    "    X_train,X_test,y_train,y_test = train_test_split(X,y,test_size=0.3,random_state=2017)\n",
    "    X_train_std = sc.transform(X_train)\n",
    "    X_test_std = sc.transform(X_test)\n",
    "    #cross validation and accuracy measures\n",
    "    from sklearn.metrics import confusion_matrix, classification_report\n",
    "    from sklearn.model_selection import cross_val_score\n",
    "    from sklearn.externals import joblib #dumping and loading model"
   ]
  },
  {
   "cell_type": "code",
   "execution_count": null,
   "metadata": {},
   "outputs": [],
   "source": [
    "def func_svm():\n",
    "    global X_train_std\n",
    "    global y_train\n",
    "    from sklearn import svm \n",
    "    svm_cls = svm.SVC(gamma=0.05,C=100,kernel='rbf')\n",
    "    svm_cls.fit(X_train_std, y_train)\n",
    "    from sklearn.externals import joblib #dumping and loading model\n",
    "    joblib.dump(svm_cls,'svm_cls_model.joblib')"
   ]
  },
  {
   "cell_type": "code",
   "execution_count": null,
   "metadata": {},
   "outputs": [],
   "source": [
    "def func_dt():\n",
    "    global X_train_std\n",
    "    global y_train\n",
    "    from sklearn.tree import DecisionTreeClassifier\n",
    "    dt = DecisionTreeClassifier(criterion='gini',random_state=5)\n",
    "    dt.fit(X_train_std, y_train)\n",
    "    from sklearn.externals import joblib #dumping and loading model\n",
    "    joblib.dump(dt,'dt_model.joblib')"
   ]
  },
  {
   "cell_type": "code",
   "execution_count": null,
   "metadata": {},
   "outputs": [],
   "source": [
    "def func_ada():\n",
    "    global X_train_std\n",
    "    global y_train\n",
    "    from sklearn.ensemble import AdaBoostClassifier\n",
    "    from sklearn.tree import DecisionTreeClassifier\n",
    "    dt = DecisionTreeClassifier(criterion='gini',random_state=5)\n",
    "    ada = AdaBoostClassifier(base_estimator=dt, n_estimators=1000,learning_rate=0.01, random_state=0)\n",
    "    ada.fit(X_train_std, y_train)\n",
    "    from sklearn.externals import joblib #dumping and loading model\n",
    "    joblib.dump(ada,'ada_model.joblib')"
   ]
  },
  {
   "cell_type": "code",
   "execution_count": null,
   "metadata": {},
   "outputs": [],
   "source": [
    "def func_rf():\n",
    "    global X_train_std\n",
    "    global y_train\n",
    "    from sklearn.ensemble import RandomForestClassifier\n",
    "    rf = RandomForestClassifier(n_estimators=100, criterion='entropy',random_state=5,max_features='auto')\n",
    "    rf.fit(X_train_std, y_train)\n",
    "    from sklearn.externals import joblib #dumping and loading model\n",
    "    joblib.dump(rf,'rf_model.joblib')"
   ]
  },
  {
   "cell_type": "code",
   "execution_count": null,
   "metadata": {},
   "outputs": [],
   "source": [
    "def func_mlp():\n",
    "    global X_train_std\n",
    "    global y_train\n",
    "    from sklearn.neural_network import MLPClassifier\n",
    "    mlp = MLPClassifier(hidden_layer_sizes=(20,2), activation='logistic',max_iter=500,learning_rate_init=0.005,tol=1e-41,solver='adam')\n",
    "    mlp.fit(X_train_std, y_train)\n",
    "    from sklearn.externals import joblib #dumping and loading model\n",
    "    joblib.dump(mlp,'mlp_model.joblib')"
   ]
  },
  {
   "cell_type": "code",
   "execution_count": null,
   "metadata": {},
   "outputs": [],
   "source": [
    "def func_knn():\n",
    "    global X_train_std\n",
    "    global y_train\n",
    "    from sklearn.neighbors import KNeighborsClassifier as KNN\n",
    "    knn=KNN(n_neighbors=3)\n",
    "    knn.fit(X_train_std, y_train)\n",
    "    from sklearn.externals import joblib #dumping and loading model\n",
    "    joblib.dump(knn,'knn_model.joblib')"
   ]
  },
  {
   "cell_type": "code",
   "execution_count": null,
   "metadata": {},
   "outputs": [],
   "source": [
    "def func_lr():\n",
    "    global X_train_std\n",
    "    global y_train\n",
    "    from sklearn.linear_model import LogisticRegression as LR\n",
    "    lr=LR(C=1.0,solver='newton-cg',penalty='l2',multi_class='ovr',max_iter=500)\n",
    "    lr.fit(X_train_std, y_train)\n",
    "    from sklearn.externals import joblib #dumping and loading model\n",
    "    joblib.dump(lr,'lr_model.joblib')"
   ]
  },
  {
   "cell_type": "code",
   "execution_count": null,
   "metadata": {},
   "outputs": [],
   "source": [
    "def create_workers():\n",
    "    for x in range(NO_OF_THR):\n",
    "        t=threading.Thread(target=work)\n",
    "        t.daemon=True\n",
    "        t.start()\n",
    "def work():\n",
    "    while True:\n",
    "        x=q.get()\n",
    "        if x==1:\n",
    "            func_svm()\n",
    "        if x==2:\n",
    "            func_dt()\n",
    "        if x==3:\n",
    "            func_ada()\n",
    "        if x==4:\n",
    "            func_rf()\n",
    "        if x==5:\n",
    "            func_mlp()\n",
    "        if x==6:\n",
    "            func_knn()\n",
    "        if x==7:\n",
    "            func_lr()\n",
    "        q.task_done()\n",
    "def create_jobs():\n",
    "    for x in JOB_NUM:\n",
    "        q.put(x)\n",
    "    q.join()"
   ]
  },
  {
   "cell_type": "code",
   "execution_count": null,
   "metadata": {},
   "outputs": [],
   "source": [
    "prelims()\n",
    "create_workers()\n",
    "create_jobs()"
   ]
  },
  {
   "cell_type": "code",
   "execution_count": null,
   "metadata": {},
   "outputs": [],
   "source": []
  },
  {
   "cell_type": "code",
   "execution_count": null,
   "metadata": {},
   "outputs": [],
   "source": []
  }
 ],
 "metadata": {
  "kernelspec": {
   "display_name": "Python 3",
   "language": "python",
   "name": "python3"
  },
  "language_info": {
   "codemirror_mode": {
    "name": "ipython",
    "version": 3
   },
   "file_extension": ".py",
   "mimetype": "text/x-python",
   "name": "python",
   "nbconvert_exporter": "python",
   "pygments_lexer": "ipython3",
   "version": "3.7.3"
  }
 },
 "nbformat": 4,
 "nbformat_minor": 2
}
