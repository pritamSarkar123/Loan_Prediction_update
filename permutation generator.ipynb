{
 "cells": [
  {
   "cell_type": "code",
   "execution_count": 121,
   "metadata": {},
   "outputs": [
    {
     "name": "stdout",
     "output_type": "stream",
     "text": [
      "enter the number :1231\n",
      "['1', '1', '2', '3']\n",
      "['1', '1', '3', '2']\n",
      "['1', '2', '1', '3']\n",
      "['1', '2', '3', '1']\n",
      "['1', '3', '1', '2']\n",
      "['1', '3', '2', '1']\n",
      "['2', '1', '1', '3']\n",
      "['2', '1', '3', '1']\n",
      "['2', '3', '1', '1']\n",
      "['3', '1', '1', '2']\n",
      "['3', '1', '2', '1']\n",
      "['3', '2', '1', '1']\n"
     ]
    }
   ],
   "source": [
    "word=input(\"enter the number :\")\n",
    "length=len(word)\n",
    "\n",
    "# value count pair\n",
    "string = []\n",
    "count = []\n",
    "ll=[]\n",
    "\n",
    "result=['' for i in range(len(word))] #output array\n",
    "\n",
    "for i in word:\n",
    "    if i not in ll:\n",
    "        ll.append(i)\n",
    "        string.append(i)\n",
    "        count.append(word.count(i))\n",
    "        \n",
    "def permutation(string,count,result,level):\n",
    "    if level==len(result):\n",
    "        print(result)\n",
    "        return\n",
    "    for i in range(len(string)): #next stage left to right traversal #same stage oth to l->r traversal\n",
    "        if count[i]==0:\n",
    "            continue;\n",
    "        result[level]=string[i]\n",
    "        count[i]-=1\n",
    "        permutation(string,count,result,level+1)\n",
    "        count[i]+=1\n",
    "    return\n",
    "\n",
    "\n",
    "permutation(string,count,result,0)"
   ]
  },
  {
   "cell_type": "code",
   "execution_count": 111,
   "metadata": {},
   "outputs": [],
   "source": [
    "# value count pair\n",
    "string = []\n",
    "count = []\n",
    "ll=[]\n",
    "result=['' for i in range(len(word))]\n",
    "for i in word:\n",
    "    if i not in ll:\n",
    "        ll.append(i)\n",
    "        string.append(i)\n",
    "        count.append(word.count(i))\n"
   ]
  },
  {
   "cell_type": "code",
   "execution_count": 118,
   "metadata": {},
   "outputs": [],
   "source": [
    "def permutation(string,count,result,level):\n",
    "    if level==len(result):\n",
    "        print(result)\n",
    "        return\n",
    "    for i in range(len(string)): #next left to right traversal\n",
    "        if count[i]==0:\n",
    "            continue;\n",
    "        result[level]=string[i]\n",
    "        count[i]-=1\n",
    "        permutation(string,count,result,level+1)\n",
    "        count[i]+=1\n",
    "    return"
   ]
  },
  {
   "cell_type": "code",
   "execution_count": 119,
   "metadata": {},
   "outputs": [
    {
     "name": "stdout",
     "output_type": "stream",
     "text": [
      "['a', 'a', 'b', 'c']\n",
      "['a', 'a', 'c', 'b']\n",
      "['a', 'b', 'a', 'c']\n",
      "['a', 'b', 'c', 'a']\n",
      "['a', 'c', 'a', 'b']\n",
      "['a', 'c', 'b', 'a']\n",
      "['b', 'a', 'a', 'c']\n",
      "['b', 'a', 'c', 'a']\n",
      "['b', 'c', 'a', 'a']\n",
      "['c', 'a', 'a', 'b']\n",
      "['c', 'a', 'b', 'a']\n",
      "['c', 'b', 'a', 'a']\n"
     ]
    }
   ],
   "source": [
    "permutation(string,count,result,0)"
   ]
  },
  {
   "cell_type": "code",
   "execution_count": 53,
   "metadata": {},
   "outputs": [],
   "source": [
    "\n",
    "    "
   ]
  },
  {
   "cell_type": "code",
   "execution_count": 54,
   "metadata": {},
   "outputs": [
    {
     "data": {
      "text/plain": [
       "[2, 1, 1]"
      ]
     },
     "execution_count": 54,
     "metadata": {},
     "output_type": "execute_result"
    }
   ],
   "source": []
  },
  {
   "cell_type": "code",
   "execution_count": 33,
   "metadata": {},
   "outputs": [
    {
     "data": {
      "text/plain": [
       "['c', 'b', 'a']"
      ]
     },
     "execution_count": 33,
     "metadata": {},
     "output_type": "execute_result"
    }
   ],
   "source": []
  },
  {
   "cell_type": "code",
   "execution_count": 34,
   "metadata": {},
   "outputs": [],
   "source": []
  },
  {
   "cell_type": "code",
   "execution_count": 35,
   "metadata": {},
   "outputs": [
    {
     "name": "stdout",
     "output_type": "stream",
     "text": [
      "['a', 'b', 'c']\n"
     ]
    }
   ],
   "source": []
  },
  {
   "cell_type": "code",
   "execution_count": null,
   "metadata": {},
   "outputs": [],
   "source": []
  }
 ],
 "metadata": {
  "kernelspec": {
   "display_name": "Python 3",
   "language": "python",
   "name": "python3"
  },
  "language_info": {
   "codemirror_mode": {
    "name": "ipython",
    "version": 3
   },
   "file_extension": ".py",
   "mimetype": "text/x-python",
   "name": "python",
   "nbconvert_exporter": "python",
   "pygments_lexer": "ipython3",
   "version": "3.7.3"
  }
 },
 "nbformat": 4,
 "nbformat_minor": 2
}
