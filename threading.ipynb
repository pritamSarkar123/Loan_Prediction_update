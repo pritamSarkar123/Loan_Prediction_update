{
 "cells": [
  {
   "cell_type": "code",
   "execution_count": 1,
   "metadata": {},
   "outputs": [
    {
     "name": "stdout",
     "output_type": "stream",
     "text": [
      "pritam\n",
      "sarkar\n",
      "pritam\n",
      "sarkar\n",
      "pritam\n",
      "sarkar\n",
      "pritam\n",
      "sarkar\n",
      "pritam\n",
      "sarkar\n"
     ]
    }
   ],
   "source": [
    "from time import sleep\n",
    "from threading import *\n",
    "class C1(Thread):\n",
    "    def run(self):\n",
    "        for i in range(0,5):\n",
    "            print('pritam')\n",
    "            sleep(1)\n",
    "class C2(Thread):\n",
    "    def run(self):\n",
    "        for i in range(0,5):\n",
    "            print('sarkar')\n",
    "            sleep(1)\n",
    "c1=C1()\n",
    "c2=C2()\n",
    "c1.start()\n",
    "sleep(0.2)\n",
    "c2.start()"
   ]
  },
  {
   "cell_type": "code",
   "execution_count": 23,
   "metadata": {},
   "outputs": [
    {
     "name": "stdout",
     "output_type": "stream",
     "text": [
      "         * \n",
      "        ** \n",
      "       *** \n",
      "      **** \n",
      "     ***** \n",
      "    ****** \n",
      "   ******* \n",
      "  ******** \n",
      " ********* \n",
      "********** \n"
     ]
    }
   ],
   "source": []
  },
  {
   "cell_type": "code",
   "execution_count": 1,
   "metadata": {},
   "outputs": [],
   "source": [
    "import threading\n",
    "from time import sleep\n",
    "from queue import Queue\n",
    "queue=Queue()\n",
    "NO_OF_THREADES=3\n",
    "JOBS=[1,2,3]"
   ]
  },
  {
   "cell_type": "code",
   "execution_count": 2,
   "metadata": {},
   "outputs": [],
   "source": [
    "def func1():\n",
    "    for i in range(10):\n",
    "        print(\"P\"+str(i))\n",
    "def func2():\n",
    "    for i in range(10):\n",
    "        print(\"Q\"+str(i))\n",
    "def func3():\n",
    "    for i in range(10):\n",
    "        print(\"R\"+str(i))"
   ]
  },
  {
   "cell_type": "code",
   "execution_count": 5,
   "metadata": {},
   "outputs": [],
   "source": [
    "def create_workers(): #creating threades to perform each tasks\n",
    "    for _ in range(NO_OF_THREADES):\n",
    "        t=threading.Thread(target=work)#,daemon=True)\n",
    "        t.daemon=True\n",
    "        t.start()\n",
    "        sleep(1)\n",
    "        \n",
    "def work(): #which work will be done by which thread\n",
    "    while True:\n",
    "        x=queue.get()\n",
    "        if x==1:\n",
    "            func1()\n",
    "        if x==2:\n",
    "            func2()\n",
    "        if x==3:\n",
    "            func3()\n",
    "        queue.task_done()\n",
    "        \n",
    "def create_jobs(): #which puts the list into array\n",
    "    for i in JOBS:\n",
    "        queue.put(i)\n",
    "    queue.join()\n",
    "    \n"
   ]
  },
  {
   "cell_type": "code",
   "execution_count": 9,
   "metadata": {},
   "outputs": [
    {
     "name": "stdout",
     "output_type": "stream",
     "text": [
      "P0Q0\n",
      "Q1\n",
      "Q2\n",
      "Q3\n",
      "Q4\n",
      "Q5\n",
      "Q6\n",
      "Q7\n",
      "R0\n",
      "R1\n",
      "R2\n",
      "P1\n",
      "P2\n",
      "P3\n",
      "\n",
      "P4\n",
      "P5\n",
      "P6\n",
      "P7\n",
      "P8\n",
      "P9\n",
      "Q8R3\n",
      "R4\n",
      "R5\n",
      "R6\n",
      "R7\n",
      "\n",
      "Q9\n",
      "R8\n",
      "R9\n"
     ]
    }
   ],
   "source": [
    "\n",
    "create_workers()\n",
    "create_jobs()"
   ]
  },
  {
   "cell_type": "code",
   "execution_count": null,
   "metadata": {},
   "outputs": [],
   "source": []
  }
 ],
 "metadata": {
  "kernelspec": {
   "display_name": "Python 3",
   "language": "python",
   "name": "python3"
  },
  "language_info": {
   "codemirror_mode": {
    "name": "ipython",
    "version": 3
   },
   "file_extension": ".py",
   "mimetype": "text/x-python",
   "name": "python",
   "nbconvert_exporter": "python",
   "pygments_lexer": "ipython3",
   "version": "3.7.3"
  }
 },
 "nbformat": 4,
 "nbformat_minor": 2
}
