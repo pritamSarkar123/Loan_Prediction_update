{
 "cells": [
  {
   "cell_type": "code",
   "execution_count": 9,
   "metadata": {},
   "outputs": [],
   "source": []
  },
  {
   "cell_type": "code",
   "execution_count": 10,
   "metadata": {},
   "outputs": [],
   "source": [
    "# check whether all the row elements are equal or not\n",
    "def row_check(i):\n",
    "    if board[i][0]==board[i][1] and board[i][1]==board[i][2]:\n",
    "        return 1\n",
    "    else:\n",
    "        return 0\n",
    "#check whether all the column elements are equal or not   \n",
    "def col_check(i):\n",
    "    if board[0][i]==board[1][i] and board[1][i]==board[2][i]:\n",
    "        return 1\n",
    "    else:\n",
    "        return 0\n",
    "#check whether each of the 2 diagonals contains equal element\n",
    "def diag_check(position):\n",
    "    if position[0]==position[1]:\n",
    "        if board[0][0]==board[1][1] and board[1][1]==board[2][2]:\n",
    "            return 1\n",
    "        else:\n",
    "            return 0\n",
    "    else:\n",
    "        if board[2][0]==board[1][1] and board[1][1]==board[0][2]:\n",
    "            return 1\n",
    "        else:\n",
    "            return 0\n",
    "# runs row column and diagonal check        \n",
    "def check_if_wins(position):\n",
    "    i=row_check(position[0])\n",
    "    j=col_check(position[1])\n",
    "    if position[0]==position[1] or position==[2,0] or position==[0,2]:\n",
    "        k=diag_check(position)\n",
    "    else:\n",
    "        k=0\n",
    "    if i==1 or j==1 or k==1:\n",
    "        return 1\n",
    "    else:\n",
    "        return 0\n",
    "#check whether the position is free or not  \n",
    "def check_free_position(position):\n",
    "    if board[position[0]][position[1]]=='':\n",
    "        return 1\n",
    "    else:\n",
    "        return 0\n",
    "    \n",
    "board=[['','',''],['','',''],['','','']] #3X3 board\n",
    "win=0\n",
    "i=0\n",
    "c=''\n",
    "while i<9: #9 positions\n",
    "    while True:\n",
    "        char=input(\"enter your choice X or O :\")\n",
    "        if c!=char:\n",
    "            c=char\n",
    "            break\n",
    "        else:\n",
    "            print(\"Another tearn\")\n",
    "    while True:\n",
    "        position=[]\n",
    "        try:\n",
    "            row=int(input(\"enter row position 0-2 :\"))\n",
    "            col=int(input(\"enter column position 0-2:\"))\n",
    "        except:\n",
    "            print(\"Wrong entry\")\n",
    "        position.append(row)\n",
    "        position.append(col)\n",
    "        free=check_free_position(position)\n",
    "        if free==1:\n",
    "            break\n",
    "        else:\n",
    "            print(\"retry position already occupied\")\n",
    "    board[row][col]=char\n",
    "    win=check_if_wins(position)\n",
    "    print(board)\n",
    "    if win==1:\n",
    "        print(char+\" Wins\")\n",
    "        break\n",
    "    i=i+1\n",
    "if win==0: #if all positions are covered but no winer\n",
    "    print(\"tie\")\n",
    "    \n",
    "    "
   ]
  },
  {
   "cell_type": "code",
   "execution_count": 11,
   "metadata": {},
   "outputs": [],
   "source": []
  },
  {
   "cell_type": "code",
   "execution_count": null,
   "metadata": {},
   "outputs": [],
   "source": []
  },
  {
   "cell_type": "code",
   "execution_count": null,
   "metadata": {},
   "outputs": [],
   "source": []
  },
  {
   "cell_type": "code",
   "execution_count": null,
   "metadata": {},
   "outputs": [],
   "source": []
  },
  {
   "cell_type": "code",
   "execution_count": null,
   "metadata": {},
   "outputs": [
    {
     "name": "stdout",
     "output_type": "stream",
     "text": [
      "enter your choice X or O :X\n",
      "enter row position 0-2 :0\n",
      "enter column position 0-2:0\n",
      "[['X', '', ''], ['', '', ''], ['', '', '']]\n",
      "enter your choice X or O :O\n",
      "enter row position 0-2 :0\n",
      "enter column position 0-2:0\n",
      "retry position already occupied\n"
     ]
    }
   ],
   "source": []
  },
  {
   "cell_type": "code",
   "execution_count": null,
   "metadata": {},
   "outputs": [],
   "source": []
  },
  {
   "cell_type": "code",
   "execution_count": null,
   "metadata": {},
   "outputs": [],
   "source": []
  }
 ],
 "metadata": {
  "kernelspec": {
   "display_name": "Python 3",
   "language": "python",
   "name": "python3"
  },
  "language_info": {
   "codemirror_mode": {
    "name": "ipython",
    "version": 3
   },
   "file_extension": ".py",
   "mimetype": "text/x-python",
   "name": "python",
   "nbconvert_exporter": "python",
   "pygments_lexer": "ipython3",
   "version": "3.7.3"
  }
 },
 "nbformat": 4,
 "nbformat_minor": 2
}
